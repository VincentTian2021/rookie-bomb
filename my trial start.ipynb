{
 "cells": [
  {
   "cell_type": "markdown",
   "id": "c8999fe7-a34c-49f2-ba53-5036b52a2dbf",
   "metadata": {},
   "source": [
    "my first cell"
   ]
  },
  {
   "cell_type": "markdown",
   "id": "9586358a-b6eb-4e86-a94a-443ff1a53ac4",
   "metadata": {},
   "source": [
    "jupyter is great\n"
   ]
  },
  {
   "cell_type": "markdown",
   "id": "157ced69-8755-4e92-987d-98d946c0f616",
   "metadata": {},
   "source": [
    "3*6\n"
   ]
  },
  {
   "cell_type": "code",
   "execution_count": 10,
   "id": "110497d0-6db4-4803-944b-ca975024b8bf",
   "metadata": {},
   "outputs": [
    {
     "name": "stdout",
     "output_type": "stream",
     "text": [
      "hello this is my world\n"
     ]
    }
   ],
   "source": [
    "print ('hello this is my world')"
   ]
  },
  {
   "cell_type": "markdown",
   "id": "75a7e911-deac-4295-a97b-daae2bbdff72",
   "metadata": {},
   "source": [
    "2+6"
   ]
  },
  {
   "cell_type": "code",
   "execution_count": 11,
   "id": "bf83660e-eef7-4007-a939-a0f93f0402f5",
   "metadata": {},
   "outputs": [
    {
     "data": {
      "text/plain": [
       "\u001b[0;31mDocstring:\u001b[0m\n",
       "Print information about the magic function system.\n",
       "\n",
       "Supported formats: -latex, -brief, -rest\n",
       "\u001b[0;31mFile:\u001b[0m      ~/conda/envs/python/lib/python3.6/site-packages/IPython/core/magics/basic.py\n"
      ]
     },
     "metadata": {},
     "output_type": "display_data"
    }
   ],
   "source": [
    "?magic"
   ]
  },
  {
   "cell_type": "code",
   "execution_count": 12,
   "id": "c2586903-b110-4aab-ad1c-01e09ae5c541",
   "metadata": {},
   "outputs": [
    {
     "data": {
      "text/plain": [
       "\u001b[0;31mDocstring:\u001b[0m\n",
       "print(value, ..., sep=' ', end='\\n', file=sys.stdout, flush=False)\n",
       "\n",
       "Prints the values to a stream, or to sys.stdout by default.\n",
       "Optional keyword arguments:\n",
       "file:  a file-like object (stream); defaults to the current sys.stdout.\n",
       "sep:   string inserted between values, default a space.\n",
       "end:   string appended after the last value, default a newline.\n",
       "flush: whether to forcibly flush the stream.\n",
       "\u001b[0;31mType:\u001b[0m      builtin_function_or_method\n"
      ]
     },
     "metadata": {},
     "output_type": "display_data"
    }
   ],
   "source": [
    "?print\n"
   ]
  },
  {
   "cell_type": "code",
   "execution_count": 21,
   "id": "1d60471d-a7be-432c-af27-5e6609b706eb",
   "metadata": {},
   "outputs": [
    {
     "name": "stdout",
     "output_type": "stream",
     "text": [
      "3\n",
      "-2\n"
     ]
    }
   ],
   "source": [
    "x=3\n",
    "y=x-5\n",
    "print(x);\n",
    "print(y);"
   ]
  },
  {
   "cell_type": "code",
   "execution_count": 22,
   "id": "a5f0ea89-b2de-498d-a426-29964bca2e52",
   "metadata": {},
   "outputs": [
    {
     "data": {
      "text/plain": [
       "3"
      ]
     },
     "execution_count": 22,
     "metadata": {},
     "output_type": "execute_result"
    }
   ],
   "source": [
    "x=3\n",
    "x"
   ]
  },
  {
   "cell_type": "code",
   "execution_count": 24,
   "id": "ef4978f2-0f7a-40ce-9047-186e1aa8e3cc",
   "metadata": {},
   "outputs": [],
   "source": [
    "x=3\n",
    "x;"
   ]
  },
  {
   "cell_type": "code",
   "execution_count": null,
   "id": "30fcf0d7-54ac-463c-8751-61367afc1ae9",
   "metadata": {},
   "outputs": [],
   "source": []
  },
  {
   "cell_type": "code",
   "execution_count": null,
   "id": "47c0e638-4853-4496-847a-5990ca3f7e2e",
   "metadata": {},
   "outputs": [],
   "source": []
  },
  {
   "cell_type": "code",
   "execution_count": null,
   "id": "d5841b87-f558-4e39-a80b-547ec4ebaa8c",
   "metadata": {},
   "outputs": [],
   "source": []
  },
  {
   "cell_type": "code",
   "execution_count": null,
   "id": "3a007260-7545-40d0-82de-a1a8b8e142c2",
   "metadata": {},
   "outputs": [],
   "source": []
  },
  {
   "cell_type": "code",
   "execution_count": null,
   "id": "88341c1c-a356-467f-9bec-e237a5a349c7",
   "metadata": {},
   "outputs": [],
   "source": []
  },
  {
   "cell_type": "code",
   "execution_count": null,
   "id": "09aeb69d-0956-4422-ba39-6894e17f9f4e",
   "metadata": {},
   "outputs": [],
   "source": []
  }
 ],
 "metadata": {
  "kernelspec": {
   "display_name": "Python",
   "language": "python",
   "name": "conda-env-python-py"
  },
  "language_info": {
   "codemirror_mode": {
    "name": "ipython",
    "version": 3
   },
   "file_extension": ".py",
   "mimetype": "text/x-python",
   "name": "python",
   "nbconvert_exporter": "python",
   "pygments_lexer": "ipython3",
   "version": "3.6.13"
  }
 },
 "nbformat": 4,
 "nbformat_minor": 5
}
